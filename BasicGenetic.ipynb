{
 "cells": [
  {
   "cell_type": "markdown",
   "metadata": {
    "pycharm": {
     "name": "#%% md\n"
    }
   },
   "source": [
    "# Clew Based Genetic Algorithm\n",
    "\n",
    "An example of how we could implement a 'Clew Based' genetric algorithm with easily swapable cost and crossover functions."
   ]
  },
  {
   "cell_type": "markdown",
   "metadata": {
    "pycharm": {
     "name": "#%% md\n"
    }
   },
   "source": [
    "### General Setup\n",
    "\n",
    "General Setup that can be shared between the different runs"
   ]
  },
  {
   "cell_type": "code",
   "execution_count": 4,
   "metadata": {
    "pycharm": {
     "name": "#%%\n"
    }
   },
   "outputs": [],
   "source": [
    "# Various imports\n",
    "import random\n",
    "import matplotlib\n",
    "import numpy as np\n",
    "from src.algorithms.basic_ga import BasicGeneticAlgorithm\n",
    "from src.image_loading import load_image\n",
    "from src.image_manipulation import crop\n",
    "from src.worm import CamoWorm, Clew\n",
    "from src.worm_mask import WormMask\n",
    "from src.helpers import clamp\n",
    "from src import rng\n",
    "from src.progress_image_generator import ProgressImageGenerator, build_gif\n",
    "\n",
    "# Controls the size of the plots.\n",
    "matplotlib.rcParams['figure.dpi'] = 140\n",
    "\n",
    "# Various Constants\n",
    "POPULATION_SIZE = 400\n",
    "CLEW_SIZE = 400\n",
    "GENERATIONS_PER_ITERATION = 10\n",
    "\n",
    "# Load the image\n",
    "image = crop(load_image(\"images\", \"original\"), (320, 560, 160, 880))\n",
    "\n",
    "def random_clew_function() -> Clew:\n",
    "    return [CamoWorm.random(image.shape) for _ in range(CLEW_SIZE)]\n",
    "\n",
    "def iterate_and_print(algorithm: BasicGeneticAlgorithm) -> None:\n",
    "    progress_image_generator = ProgressImageGenerator(image, \"Basic Genetic\", \"./progress\")\n",
    "\n",
    "    for index in range(100):\n",
    "        results = algorithm.run_generations(GENERATIONS_PER_ITERATION)\n",
    "\n",
    "        print(\n",
    "            f\"({results[-1].generation:04}) {results[-1].costs[0]:.2f} {results[-1].duration*GENERATIONS_PER_ITERATION}\")\n",
    "\n",
    "        clew = algorithm.population[0].underlying\n",
    "        worm_masks = [WormMask(worm, image) for worm in clew]\n",
    "        progress_image_generator.save_progress_image(clew, worm_masks, index * GENERATIONS_PER_ITERATION)\n",
    "    \n",
    "    build_gif(\"./progress\", \"progress.gif\")"
   ]
  },
  {
   "cell_type": "markdown",
   "metadata": {
    "pycharm": {
     "name": "#%% md\n"
    }
   },
   "source": [
    "### Crossover functions"
   ]
  },
  {
   "cell_type": "code",
   "execution_count": 2,
   "metadata": {
    "pycharm": {
     "name": "#%%\n"
    }
   },
   "outputs": [],
   "source": [
    "def fully_random_crossover(clew1: Clew, clew2: Clew) -> Clew:\n",
    "    \"\"\" Worms essentially get randomly shuffled and can end up at any index. \"\"\"\n",
    "    cross_index = rng.integers(0, CLEW_SIZE)\n",
    "\n",
    "    new_clew = random.choices(\n",
    "        clew1, k=cross_index) + random.choices(clew2, k=(CLEW_SIZE-cross_index))\n",
    "\n",
    "    return new_clew\n",
    "\n",
    "\n",
    "def mutate_worm(worm: CamoWorm) -> CamoWorm:\n",
    "    \"\"\" Mutates the given worm. \"\"\"\n",
    "    (ylim, xlim) = image.shape\n",
    "\n",
    "    return CamoWorm(\n",
    "        worm.x,\n",
    "        worm.y,\n",
    "        worm.r + rng.standard_normal() * 0.1,\n",
    "        worm.theta + np.pi * 0.1 * rng.standard_normal(),\n",
    "        worm.dr + rng.standard_normal() * 0.1,\n",
    "        worm.dgamma + np.pi * 0.1 * rng.standard_normal(),\n",
    "        max(worm.width + rng.standard_normal() * 0.1, 0),\n",
    "        clamp(worm.colour + rng.standard_normal() * 0.1, 0, 1)\n",
    "    )\n",
    "\n",
    "\n",
    "def index_respecting_crossover(clew1: Clew, clew2: Clew) -> Clew:\n",
    "    \"\"\" Worms will always remain at the same index and cannot change position\n",
    "    in the clew. \"\"\"\n",
    "    cross_index = rng.integers(0, CLEW_SIZE)\n",
    "\n",
    "    if random.random() > 0.5:\n",
    "        new_clew = clew1[:cross_index] + clew2[cross_index:]\n",
    "    else:\n",
    "        new_clew = clew2[:cross_index] + clew1[cross_index:]\n",
    "\n",
    "    for index, worm in enumerate(new_clew):\n",
    "        if random.random() < 0.05:\n",
    "            new_clew[index] = mutate_worm(worm)\n",
    "\n",
    "    return new_clew\n"
   ]
  },
  {
   "cell_type": "markdown",
   "metadata": {
    "pycharm": {
     "name": "#%% md\n"
    }
   },
   "source": [
    "### Cost functions"
   ]
  },
  {
   "cell_type": "code",
   "execution_count": 6,
   "metadata": {
    "pycharm": {
     "name": "#%%\n"
    }
   },
   "outputs": [],
   "source": [
    "def max_width_cost_function(clew: Clew) -> float:\n",
    "    cost = 0.0\n",
    "\n",
    "    for worm in clew:\n",
    "        cost += 1 / worm.width\n",
    "\n",
    "    return cost\n",
    "\n",
    "def min_width_cost_function(clew: Clew) -> float:\n",
    "    cost = 0.0\n",
    "\n",
    "    for worm in clew:\n",
    "        cost += worm.width\n",
    "\n",
    "    return cost\n",
    "\n",
    "def min_theta_cost_function(clew: Clew) -> float:\n",
    "    cost = 0.0\n",
    "\n",
    "    for worm in clew:\n",
    "        cost += abs(worm.theta)\n",
    "\n",
    "    return cost"
   ]
  },
  {
   "cell_type": "markdown",
   "metadata": {
    "pycharm": {
     "name": "#%% md\n"
    }
   },
   "source": [
    "### Max Width\n",
    "\n",
    "Max width using the fully random crossover function"
   ]
  },
  {
   "cell_type": "code",
   "execution_count": null,
   "metadata": {
    "pycharm": {
     "name": "#%%\n"
    }
   },
   "outputs": [],
   "source": [
    "max_width_random_crossover = BasicGeneticAlgorithm(\n",
    "    POPULATION_SIZE, max_width_cost_function, random_clew_function, fully_random_crossover)\n",
    "\n",
    "iterate_and_print(max_width_random_crossover)"
   ]
  },
  {
   "cell_type": "markdown",
   "metadata": {
    "pycharm": {
     "name": "#%% md\n"
    }
   },
   "source": [
    "Using the index respecting crossover"
   ]
  },
  {
   "cell_type": "code",
   "execution_count": null,
   "metadata": {
    "pycharm": {
     "name": "#%%\n"
    }
   },
   "outputs": [],
   "source": [
    "max_width_index_respecting = BasicGeneticAlgorithm(\n",
    "    POPULATION_SIZE, max_width_cost_function, random_clew_function, index_respecting_crossover)\n",
    "\n",
    "iterate_and_print(max_width_index_respecting)"
   ]
  },
  {
   "cell_type": "markdown",
   "metadata": {
    "pycharm": {
     "name": "#%% md\n"
    }
   },
   "source": [
    "### Min Width"
   ]
  },
  {
   "cell_type": "code",
   "execution_count": null,
   "metadata": {
    "pycharm": {
     "name": "#%%\n"
    }
   },
   "outputs": [],
   "source": [
    "min_width_random_crossover = BasicGeneticAlgorithm(\n",
    "    POPULATION_SIZE, min_width_cost_function, random_clew_function, fully_random_crossover)\n",
    "\n",
    "iterate_and_print(min_width_random_crossover)"
   ]
  },
  {
   "cell_type": "code",
   "execution_count": null,
   "metadata": {
    "pycharm": {
     "name": "#%%\n"
    }
   },
   "outputs": [],
   "source": [
    "min_width_index_respecting = BasicGeneticAlgorithm(\n",
    "    POPULATION_SIZE, min_theta_cost_function, random_clew_function, index_respecting_crossover)\n",
    "\n",
    "iterate_and_print(min_width_index_respecting)"
   ]
  }
 ],
 "metadata": {
  "interpreter": {
   "hash": "949777d72b0d2535278d3dc13498b2535136f6dfe0678499012e853ee9abcab1"
  },
  "kernelspec": {
   "display_name": "Python 3.10.2 64-bit",
   "language": "python",
   "name": "python3"
  },
  "language_info": {
   "codemirror_mode": {
    "name": "ipython",
    "version": 3
   },
   "file_extension": ".py",
   "mimetype": "text/x-python",
   "name": "python",
   "nbconvert_exporter": "python",
   "pygments_lexer": "ipython3",
   "version": "3.10.2"
  },
  "orig_nbformat": 4
 },
 "nbformat": 4,
 "nbformat_minor": 2
}
